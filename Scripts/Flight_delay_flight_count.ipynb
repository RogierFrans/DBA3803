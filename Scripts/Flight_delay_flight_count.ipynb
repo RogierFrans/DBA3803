{
 "cells": [
  {
   "cell_type": "code",
   "execution_count": 22,
   "metadata": {},
   "outputs": [],
   "source": [
    "df1 = df"
   ]
  },
  {
   "cell_type": "code",
   "execution_count": 31,
   "metadata": {},
   "outputs": [
    {
     "name": "stdout",
     "output_type": "stream",
     "text": [
      "   YEAR  MONTH  DAY  DAY_OF_WEEK AIRLINE  FLIGHT_NUMBER TAIL_NUMBER  \\\n",
      "0  2015      1    1            4      AS             98      N407AS   \n",
      "1  2015      1    1            4      AA           2336      N3KUAA   \n",
      "2  2015      1    1            4      US            840      N171US   \n",
      "3  2015      1    1            4      AA            258      N3HYAA   \n",
      "4  2015      1    1            4      AS            135      N527AS   \n",
      "\n",
      "  ORIGIN_AIRPORT DESTINATION_AIRPORT  SCHEDULED_DEPARTURE  DEPARTURE_TIME  \\\n",
      "0            ANC                 SEA                    5          2354.0   \n",
      "1            LAX                 PBI                   10             2.0   \n",
      "2            SFO                 CLT                   20            18.0   \n",
      "3            LAX                 MIA                   20            15.0   \n",
      "4            SEA                 ANC                   25            24.0   \n",
      "\n",
      "   DEPARTURE_DELAY  TAXI_OUT  WHEELS_OFF  SCHEDULED_TIME  ELAPSED_TIME  \\\n",
      "0            -11.0      21.0        15.0           205.0         194.0   \n",
      "1             -8.0      12.0        14.0           280.0         279.0   \n",
      "2             -2.0      16.0        34.0           286.0         293.0   \n",
      "3             -5.0      15.0        30.0           285.0         281.0   \n",
      "4             -1.0      11.0        35.0           235.0         215.0   \n",
      "\n",
      "   AIR_TIME  DISTANCE  WHEELS_ON  TAXI_IN  SCHEDULED_ARRIVAL  ARRIVAL_TIME  \\\n",
      "0     169.0      1448      404.0      4.0                430         408.0   \n",
      "1     263.0      2330      737.0      4.0                750         741.0   \n",
      "2     266.0      2296      800.0     11.0                806         811.0   \n",
      "3     258.0      2342      748.0      8.0                805         756.0   \n",
      "4     199.0      1448      254.0      5.0                320         259.0   \n",
      "\n",
      "   ARRIVAL_DELAY  DIVERTED  CANCELLED  \n",
      "0          -22.0         0          0  \n",
      "1           -9.0         0          0  \n",
      "2            5.0         0          0  \n",
      "3           -9.0         0          0  \n",
      "4          -21.0         0          0  \n"
     ]
    }
   ],
   "source": [
    "pd.set_option('display.max_columns', None)\n",
    "print(df1.head())"
   ]
  },
  {
   "cell_type": "code",
   "execution_count": 32,
   "metadata": {},
   "outputs": [
    {
     "name": "stdout",
     "output_type": "stream",
     "text": [
      "   YEAR  MONTH  DAY  DAY_OF_WEEK AIRLINE  FLIGHT_NUMBER TAIL_NUMBER  \\\n",
      "0  2015      1    1            4      AS             98      N407AS   \n",
      "1  2015      1    1            4      AA           2336      N3KUAA   \n",
      "2  2015      1    1            4      US            840      N171US   \n",
      "3  2015      1    1            4      AA            258      N3HYAA   \n",
      "4  2015      1    1            4      AS            135      N527AS   \n",
      "5  2015      1    1            4      DL            806      N3730B   \n",
      "6  2015      1    1            4      NK            612      N635NK   \n",
      "7  2015      1    1            4      US           2013      N584UW   \n",
      "8  2015      1    1            4      AA           1112      N3LAAA   \n",
      "9  2015      1    1            4      DL           1173      N826DN   \n",
      "\n",
      "  ORIGIN_AIRPORT DESTINATION_AIRPORT  SCHEDULED_DEPARTURE  DEPARTURE_TIME  \\\n",
      "0            ANC                 SEA                    5          2354.0   \n",
      "1            LAX                 PBI                   10             2.0   \n",
      "2            SFO                 CLT                   20            18.0   \n",
      "3            LAX                 MIA                   20            15.0   \n",
      "4            SEA                 ANC                   25            24.0   \n",
      "5            SFO                 MSP                   25            20.0   \n",
      "6            LAS                 MSP                   25            19.0   \n",
      "7            LAX                 CLT                   30            44.0   \n",
      "8            SFO                 DFW                   30            19.0   \n",
      "9            LAS                 ATL                   30            33.0   \n",
      "\n",
      "   DEPARTURE_DELAY  TAXI_OUT  WHEELS_OFF  SCHEDULED_TIME  ELAPSED_TIME  \\\n",
      "0            -11.0      21.0        15.0           205.0         194.0   \n",
      "1             -8.0      12.0        14.0           280.0         279.0   \n",
      "2             -2.0      16.0        34.0           286.0         293.0   \n",
      "3             -5.0      15.0        30.0           285.0         281.0   \n",
      "4             -1.0      11.0        35.0           235.0         215.0   \n",
      "5             -5.0      18.0        38.0           217.0         230.0   \n",
      "6             -6.0      11.0        30.0           181.0         170.0   \n",
      "7             14.0      13.0        57.0           273.0         249.0   \n",
      "8            -11.0      17.0        36.0           195.0         193.0   \n",
      "9              3.0      12.0        45.0           221.0         203.0   \n",
      "\n",
      "   AIR_TIME  DISTANCE  WHEELS_ON  TAXI_IN  SCHEDULED_ARRIVAL  ARRIVAL_TIME  \\\n",
      "0     169.0      1448      404.0      4.0                430         408.0   \n",
      "1     263.0      2330      737.0      4.0                750         741.0   \n",
      "2     266.0      2296      800.0     11.0                806         811.0   \n",
      "3     258.0      2342      748.0      8.0                805         756.0   \n",
      "4     199.0      1448      254.0      5.0                320         259.0   \n",
      "5     206.0      1589      604.0      6.0                602         610.0   \n",
      "6     154.0      1299      504.0      5.0                526         509.0   \n",
      "7     228.0      2125      745.0      8.0                803         753.0   \n",
      "8     173.0      1464      529.0      3.0                545         532.0   \n",
      "9     186.0      1747      651.0      5.0                711         656.0   \n",
      "\n",
      "   ARRIVAL_DELAY  DIVERTED  CANCELLED  flight_delayed  \n",
      "0          -22.0         0          0               1  \n",
      "1           -9.0         0          0               1  \n",
      "2            5.0         0          0               1  \n",
      "3           -9.0         0          0               1  \n",
      "4          -21.0         0          0               1  \n",
      "5            8.0         0          0               1  \n",
      "6          -17.0         0          0               1  \n",
      "7          -10.0         0          0               0  \n",
      "8          -13.0         0          0               1  \n",
      "9          -15.0         0          0               0  \n"
     ]
    }
   ],
   "source": [
    "# Look for value in Departure Delay and create flight_delay column\n",
    "df1['flight_delayed'] = df1['DEPARTURE_DELAY'].apply(lambda x: 1 if x < 0 else 0)\n",
    "\n",
    "print(df1.head(10))"
   ]
  },
  {
   "cell_type": "code",
   "execution_count": null,
   "metadata": {},
   "outputs": [],
   "source": []
  }
 ],
 "metadata": {
  "kernelspec": {
   "display_name": "Python 3 (ipykernel)",
   "language": "python",
   "name": "python3"
  },
  "language_info": {
   "codemirror_mode": {
    "name": "ipython",
    "version": 3
   },
   "file_extension": ".py",
   "mimetype": "text/x-python",
   "name": "python",
   "nbconvert_exporter": "python",
   "pygments_lexer": "ipython3",
   "version": "3.9.13"
  }
 },
 "nbformat": 4,
 "nbformat_minor": 2
}
