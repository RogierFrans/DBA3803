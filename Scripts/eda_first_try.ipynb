{
 "cells": [
  {
   "cell_type": "code",
   "execution_count": 2,
   "id": "768de190",
   "metadata": {},
   "outputs": [],
   "source": [
    "#import relevant packages\n",
    "import pandas as pd\n",
    "import matplotlib.pyplot as plt\n",
    "import seaborn as sns"
   ]
  },
  {
   "cell_type": "code",
   "execution_count": 3,
   "id": "0a8365a9",
   "metadata": {},
   "outputs": [],
   "source": [
    "#read the dataset\n",
    "df = pd.read_csv('airlines_delay.csv')"
   ]
  },
  {
   "cell_type": "code",
   "execution_count": 4,
   "id": "e78bb01a",
   "metadata": {},
   "outputs": [],
   "source": [
    "df"
   ]
  },
  {
   "cell_type": "code",
   "execution_count": 5,
   "id": "29580a6e",
   "metadata": {},
   "outputs": [],
   "source": [
    "#No. of Delays (Delayed = 1, No Delay = 0)\n",
    "delay = df['Class'].value_counts()\n",
    "delay\n",
    "delay_count = df['Class'].sum()\n",
    "delay_count"
   ]
  },
  {
   "cell_type": "code",
   "execution_count": 6,
   "id": "ae3e49f1",
   "metadata": {},
   "outputs": [],
   "source": [
    "#Finding the percentage of delayed flights \n",
    "total_flights = len(df)\n",
    "total_flights\n",
    "percentage_delayed_flights = delay_count/total_flights\n",
    "percentage_delayed_flights"
   ]
  },
  {
   "cell_type": "code",
   "execution_count": 8,
   "id": "4d410cf0",
   "metadata": {},
   "outputs": [],
   "source": [
    "# Bar plot for Delayed vs. Non-Delayed Flights\n",
    "plt.figure(figsize=(10, 6))\n",
    "sns.barplot(x=delay.index, y=delay.values, palette='viridis')\n",
    "plt.title('No. of Delayed vs Non-Delayed Flights')\n",
    "plt.xlabel('Delayed or Not')\n",
    "plt.ylabel('Count')\n",
    "plt.xticks(ticks=[0, 1], labels=['Not Delayed', 'Delayed'])\n",
    "plt.show()"
   ]
  },
  {
   "cell_type": "code",
   "execution_count": 11,
   "id": "74e6dcb9",
   "metadata": {},
   "outputs": [],
   "source": [
    "# Convert minutes past midnight to the hour (truncate)\n",
    "df['Hour of Departure'] = (df['Time'] // 60).astype(int)\n",
    "df"
   ]
  },
  {
   "cell_type": "code",
   "execution_count": 14,
   "id": "e07b77ca",
   "metadata": {},
   "outputs": [],
   "source": [
    "# Count plot for delays based on hour of departure\n",
    "plt.figure(figsize=(12, 6))\n",
    "sns.countplot(x='Hour of Departure', hue='Class', data=df, palette='viridis')\n",
    "plt.title('Count of Delays by Hour of Departure')\n",
    "plt.xlabel('Hour of Departure')\n",
    "plt.ylabel('Count of Departures')\n",
    "plt.xticks(rotation=45)\n",
    "plt.legend(title='Delay', labels=['Not Delayed (0)', 'Delayed (1)'])\n",
    "plt.show()\n"
   ]
  },
  {
   "cell_type": "code",
   "execution_count": 17,
   "id": "d9e1ab4e",
   "metadata": {},
   "outputs": [],
   "source": [
    "# Scatter plot for length of flight and delays\n",
    "plt.figure(figsize=(12, 6))\n",
    "sns.scatterplot(x='Length', y='Class', data=df, alpha=0.6)\n",
    "plt.title('Relationship Between Length of Flight and Delays')\n",
    "plt.xlabel('Length of Flight (minutes)')\n",
    "plt.ylabel('Delayed (1) or Not Delayed (0)')\n",
    "plt.yticks([0, 1], ['Not Delayed', 'Delayed'])\n",
    "plt.axhline(y=0.5, color='r', linestyle='--', label='Threshold')\n",
    "plt.legend()\n",
    "plt.grid(True)\n",
    "plt.show()"
   ]
  },
  {
   "cell_type": "code",
   "execution_count": 20,
   "id": "7ebb3e7f",
   "metadata": {},
   "outputs": [],
   "source": [
    "# Create bins for Length of Flight\n",
    "bins = [0, 60, 120, 180, 240, 300, 360]  # Adjust the bins as needed\n",
    "labels = ['0-60', '60-120', '120-180', '180-240', '240-300', '300-360']\n",
    "\n",
    "# Create the Flight Length Category using the updated column name\n",
    "df['Flight Length Category'] = pd.cut(df['Length'], bins=bins, labels=labels)\n",
    "\n",
    "# Boxplot for length of flight categories and delays\n",
    "plt.figure(figsize=(12, 6))\n",
    "sns.boxplot(x='Flight Length Category', y='Class', data=df, palette='viridis')\n",
    "plt.title('Delay Distribution by Flight Length Category')\n",
    "plt.xlabel('Length of Flight Category (minutes)')\n",
    "plt.ylabel('Delayed (1) or Not Delayed (0)')\n",
    "plt.yticks([0, 1], ['Not Delayed', 'Delayed'])\n",
    "plt.grid(axis='y', linestyle='--', alpha=0.6)\n",
    "plt.show()\n",
    "\n"
   ]
  },
  {
   "cell_type": "code",
   "execution_count": 22,
   "id": "111b5a9e",
   "metadata": {},
   "outputs": [],
   "source": [
    "# Count the number of flights for each airline\n",
    "flight_counts = df['Airline'].value_counts()\n",
    "print(flight_counts)  # This will show you the counts for each airline\n"
   ]
  },
  {
   "cell_type": "code",
   "execution_count": 23,
   "id": "650f7d40",
   "metadata": {},
   "outputs": [],
   "source": [
    "# Create a bar plot for the number of flights per airline\n",
    "plt.figure(figsize=(12, 6))\n",
    "sns.barplot(x=flight_counts.index, y=flight_counts.values, palette='viridis')\n",
    "plt.title('Number of Flights by Airline')\n",
    "plt.xlabel('Airline')\n",
    "plt.ylabel('Number of Flights')\n",
    "plt.xticks(rotation=45)  # Rotate x labels for better visibility\n",
    "plt.grid(axis='y', linestyle='--', alpha=0.6)\n",
    "plt.show()\n"
   ]
  },
  {
   "cell_type": "code",
   "execution_count": 24,
   "id": "6dc2847a",
   "metadata": {},
   "outputs": [],
   "source": [
    "# Calculate the total number of flights and the number of delayed flights for each airline\n",
    "delay_counts = df.groupby('Airline')['Class'].value_counts().unstack(fill_value=0)\n",
    "\n",
    "# Calculate the percentage of delays for each airline\n",
    "delay_percentage = (delay_counts[1] / (delay_counts[0] + delay_counts[1])) * 100\n",
    "delay_percentage = delay_percentage.sort_values(ascending=False)  # Sort for better visualization\n",
    "\n",
    "print(delay_percentage)  # This will show you the percentage of delays for each airline\n"
   ]
  },
  {
   "cell_type": "code",
   "execution_count": 25,
   "id": "c79709df",
   "metadata": {},
   "outputs": [],
   "source": [
    "# Create a bar plot for the percentage of delays per airline\n",
    "plt.figure(figsize=(12, 6))\n",
    "sns.barplot(x=delay_percentage.index, y=delay_percentage.values, palette='viridis')\n",
    "plt.title('Percentage of Delays by Airline')\n",
    "plt.xlabel('Airline')\n",
    "plt.ylabel('Percentage of Delays (%)')\n",
    "plt.xticks(rotation=45)  # Rotate x labels for better visibility\n",
    "plt.grid(axis='y', linestyle='--', alpha=0.6)\n",
    "plt.ylim(0, 100)  # Set y-axis limits from 0 to 100%\n",
    "plt.show()"
   ]
  },
  {
   "cell_type": "code",
   "execution_count": 26,
   "id": "aa6a2a52",
   "metadata": {},
   "outputs": [],
   "source": [
    "# Count the number of flights from each airport\n",
    "airport_counts = df['AirportFrom'].value_counts()\n",
    "print(airport_counts)  # This will show you the counts for each airport\n"
   ]
  },
  {
   "cell_type": "code",
   "execution_count": 27,
   "id": "1b3ff044",
   "metadata": {},
   "outputs": [],
   "source": [
    "# Create a bar plot for the number of flights from each airport\n",
    "plt.figure(figsize=(12, 6))\n",
    "sns.barplot(x=airport_counts.index, y=airport_counts.values, palette='viridis')\n",
    "plt.title('Number of Flights by Departure Airport')\n",
    "plt.xlabel('Airport')\n",
    "plt.ylabel('Number of Flights')\n",
    "plt.xticks(rotation=45)  # Rotate x labels for better visibility\n",
    "plt.grid(axis='y', linestyle='--', alpha=0.6)\n",
    "plt.show()\n"
   ]
  },
  {
   "cell_type": "code",
   "execution_count": 28,
   "id": "774a4a01",
   "metadata": {},
   "outputs": [],
   "source": [
    "# Calculate the number of delays for each airport\n",
    "airport_delay_counts = df.groupby('AirportFrom')['Class'].value_counts().unstack(fill_value=0)\n",
    "\n",
    "# Calculate the total number of flights and the number of delayed flights\n",
    "airport_delay_counts['Total Flights'] = airport_delay_counts[0] + airport_delay_counts[1]\n",
    "airport_delay_counts['Delay Percentage'] = (airport_delay_counts[1] / airport_delay_counts['Total Flights']) * 100\n",
    "\n",
    "# Sort by delay percentage for better visualization\n",
    "airport_delay_counts = airport_delay_counts.sort_values('Delay Percentage', ascending=False)\n",
    "\n",
    "# Print the resulting DataFrame\n",
    "print(airport_delay_counts[['Total Flights', 1, 'Delay Percentage']])\n"
   ]
  },
  {
   "cell_type": "code",
   "execution_count": 29,
   "id": "589a151b",
   "metadata": {},
   "outputs": [],
   "source": [
    "# Create a bar plot for the delay percentage per airport\n",
    "plt.figure(figsize=(12, 6))\n",
    "sns.barplot(x=airport_delay_counts.index, y=airport_delay_counts['Delay Percentage'], palette='viridis')\n",
    "plt.title('Percentage of Delays by Departure Airport')\n",
    "plt.xlabel('Airport')\n",
    "plt.ylabel('Percentage of Delays (%)')\n",
    "plt.xticks(rotation=45)  # Rotate x labels for better visibility\n",
    "plt.grid(axis='y', linestyle='--', alpha=0.6)\n",
    "plt.ylim(0, 100)  # Set y-axis limits from 0 to 100%\n",
    "plt.show()\n"
   ]
  },
  {
   "cell_type": "code",
   "execution_count": 30,
   "id": "00761894",
   "metadata": {},
   "outputs": [],
   "source": [
    "# Count the number of flights for each day of the week\n",
    "day_counts = df['DayOfWeek'].value_counts().sort_index()\n",
    "\n",
    "# Print the resulting counts for verification\n",
    "print(day_counts)"
   ]
  },
  {
   "cell_type": "code",
   "execution_count": 31,
   "id": "c6c11095",
   "metadata": {},
   "outputs": [],
   "source": [
    "# Create a bar plot for the number of flights for each day of the week\n",
    "plt.figure(figsize=(12, 6))\n",
    "sns.barplot(x=day_counts.index, y=day_counts.values, palette='viridis')\n",
    "plt.title('Number of Flights by Day of the Week')\n",
    "plt.xlabel('Day of the Week')\n",
    "plt.ylabel('Number of Flights')\n",
    "plt.xticks(rotation=45)  # Rotate x labels for better visibility\n",
    "plt.grid(axis='y', linestyle='--', alpha=0.6)\n",
    "plt.show()\n"
   ]
  },
  {
   "cell_type": "code",
   "execution_count": 32,
   "id": "4434cc11",
   "metadata": {},
   "outputs": [],
   "source": [
    "# Calculate the number of delays for each day of the week\n",
    "day_delay_counts = df.groupby('DayOfWeek')['Class'].value_counts().unstack(fill_value=0)\n",
    "\n",
    "# Calculate the total number of flights and the number of delayed flights\n",
    "day_delay_counts['Total Flights'] = day_delay_counts[0] + day_delay_counts[1]\n",
    "day_delay_counts['Delay Percentage'] = (day_delay_counts[1] / day_delay_counts['Total Flights']) * 100\n",
    "\n",
    "# Sort the DataFrame for better visualization\n",
    "day_delay_counts = day_delay_counts.sort_index()\n",
    "\n",
    "# Print the resulting DataFrame for verification\n",
    "print(day_delay_counts[['Total Flights', 1, 'Delay Percentage']])"
   ]
  },
  {
   "cell_type": "code",
   "execution_count": 33,
   "id": "025e89e7",
   "metadata": {},
   "outputs": [],
   "source": [
    "# Create a bar plot for the delay percentage per day of the week\n",
    "plt.figure(figsize=(12, 6))\n",
    "sns.barplot(x=day_delay_counts.index, y=day_delay_counts['Delay Percentage'], palette='viridis')\n",
    "plt.title('Percentage of Delays by Day of the Week')\n",
    "plt.xlabel('Day of the Week')\n",
    "plt.ylabel('Percentage of Delays (%)')\n",
    "plt.xticks(rotation=45)  # Rotate x labels for better visibility\n",
    "plt.ylim(0, 100)  # Set y-axis limits from 0 to 100%\n",
    "plt.grid(axis='y', linestyle='--', alpha=0.6)\n",
    "plt.show()"
   ]
  },
  {
   "cell_type": "code",
   "execution_count": null,
   "id": "bb0b86af",
   "metadata": {},
   "outputs": [],
   "source": []
  }
 ],
 "metadata": {
  "kernelspec": {
   "display_name": "Python 3 (ipykernel)",
   "language": "python",
   "name": "python3"
  },
  "language_info": {
   "codemirror_mode": {
    "name": "ipython",
    "version": 3
   },
   "file_extension": ".py",
   "mimetype": "text/x-python",
   "name": "python",
   "nbconvert_exporter": "python",
   "pygments_lexer": "ipython3",
   "version": "3.9.13"
  }
 },
 "nbformat": 4,
 "nbformat_minor": 5
}
